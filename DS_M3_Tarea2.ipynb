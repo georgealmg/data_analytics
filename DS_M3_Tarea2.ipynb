{
 "cells": [
  {
   "cell_type": "code",
   "execution_count": null,
   "metadata": {},
   "outputs": [],
   "source": [
    "import numpy as np\n",
    "import pandas as pd\n",
    "import seaborn as sns\n",
    "import matplotlib.pyplot as plt\n",
    "from mpl_toolkits.mplot3d import Axes3D\n",
    "from sklearn import metrics\n",
    "from sklearn.linear_model import LinearRegression\n",
    "from sklearn.model_selection import train_test_split"
   ]
  },
  {
   "cell_type": "code",
   "execution_count": null,
   "metadata": {},
   "outputs": [],
   "source": [
    "df = pd.read_csv(\"0JFV001103_UA2_AA1_Anexo.csv\", sep=\"|\")"
   ]
  },
  {
   "cell_type": "code",
   "execution_count": null,
   "metadata": {},
   "outputs": [],
   "source": [
    "sns.set(style=\"ticks\", color_codes=True)\n",
    "g = sns.pairplot(df)\n",
    "plt.show()"
   ]
  },
  {
   "attachments": {},
   "cell_type": "markdown",
   "metadata": {},
   "source": [
    "# Regresion linear simple"
   ]
  },
  {
   "cell_type": "code",
   "execution_count": null,
   "metadata": {},
   "outputs": [],
   "source": [
    "X = np.array(df[\"BuildingArea\"]).reshape(-1,1)\n",
    "Y = np.array(df[\"Price\"]).reshape(-1,1)\n",
    "X_train, X_test, Y_train, Y_test = train_test_split(X, Y, test_size = 0.25)\n",
    "regr = LinearRegression()\n",
    "regr.fit(X_train,Y_train)\n",
    "# regr.score(X_test,Y_test)\n",
    "Y_pred = regr.predict(X_test)"
   ]
  },
  {
   "cell_type": "code",
   "execution_count": null,
   "metadata": {},
   "outputs": [],
   "source": [
    "\n",
    "plt.scatter(X_test, Y_test, color=\"grey\", label=\"Data\")\n",
    "plt.scatter(X_test, Y_pred, color=\"black\", label=\"Regression\")\n",
    "plt.legend()\n",
    "plt.show()"
   ]
  },
  {
   "cell_type": "code",
   "execution_count": null,
   "metadata": {},
   "outputs": [],
   "source": [
    "print(f\"Mean absolute error: {metrics.mean_absolute_error(Y_test,Y_pred)}\", f\"Mean squared error: {metrics.mean_squared_error(Y_test,Y_pred)}\", \n",
    "f\"Root Mean Squared Error: {np.sqrt(metrics.mean_squared_error(Y_test, Y_pred))}\", f\"R^2: {metrics.r2_score(Y_test,Y_pred)}\", sep=\"\\n\")"
   ]
  },
  {
   "attachments": {},
   "cell_type": "markdown",
   "metadata": {},
   "source": [
    "# Regresion linear multiple"
   ]
  },
  {
   "cell_type": "code",
   "execution_count": null,
   "metadata": {},
   "outputs": [],
   "source": [
    "fig = plt.figure()\n",
    "ax = fig.add_subplot(projection=\"3d\")\n",
    "ax.scatter(df[\"BuildingArea\"], df[\"Distance\"], df[\"Price\"])\n",
    "ax.set_xlabel(\"BuildingArea\")\n",
    "ax.set_ylabel(\"Distance\")\n",
    "ax.set_zlabel(\"Price\")\n",
    "plt.show()"
   ]
  },
  {
   "cell_type": "code",
   "execution_count": null,
   "metadata": {},
   "outputs": [],
   "source": [
    "X = np.array(df[[\"BuildingArea\",\"Distance\"]]).reshape(-1,2)\n",
    "Y = np.array(df[[\"Price\"]]).reshape(-1,1)\n",
    "X_train, X_test, Y_train, Y_test = train_test_split(X, Y, test_size = 0.30)\n",
    "regr = LinearRegression()\n",
    "regr.fit(X_train,Y_train)\n",
    "# regr.score(X_test,Y_test)\n",
    "Y_pred = regr.predict(X_test)"
   ]
  },
  {
   "cell_type": "code",
   "execution_count": null,
   "metadata": {},
   "outputs": [],
   "source": [
    "print(f\"Mean absolute error: {metrics.mean_absolute_error(Y_test,Y_pred)}\", f\"Mean squared error: {metrics.mean_squared_error(Y_test,Y_pred)}\", \n",
    "f\"Root Mean Squared Error: {np.sqrt(metrics.mean_squared_error(Y_test, Y_pred))}\", f\"R^2: {metrics.r2_score(Y_test,Y_pred)}\", sep=\"\\n\")"
   ]
  }
 ],
 "metadata": {
  "kernelspec": {
   "display_name": "Python 3",
   "language": "python",
   "name": "python3"
  },
  "language_info": {
   "codemirror_mode": {
    "name": "ipython",
    "version": 3
   },
   "file_extension": ".py",
   "mimetype": "text/x-python",
   "name": "python",
   "nbconvert_exporter": "python",
   "pygments_lexer": "ipython3",
   "version": "3.10.6 (main, Nov 14 2022, 16:10:14) [GCC 11.3.0]"
  },
  "orig_nbformat": 4,
  "vscode": {
   "interpreter": {
    "hash": "916dbcbb3f70747c44a77c7bcd40155683ae19c65e1c03b4aa3499c5328201f1"
   }
  }
 },
 "nbformat": 4,
 "nbformat_minor": 2
}
