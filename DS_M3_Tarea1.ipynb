{
 "cells": [
  {
   "cell_type": "code",
   "execution_count": null,
   "metadata": {},
   "outputs": [],
   "source": [
    "import pandas as pd\n",
    "import numpy as np\n",
    "animalprop = pd.read_csv(\"animal_center_prop.csv\", sep=\",\")\n",
    "animalvet = pd.read_csv(\"animal_center_vet.csv\", sep=\",\")"
   ]
  },
  {
   "attachments": {},
   "cell_type": "markdown",
   "metadata": {},
   "source": [
    "# 1. ¿De qué raza (“breed”) es el animal con identificador “A668644”?"
   ]
  },
  {
   "cell_type": "code",
   "execution_count": null,
   "metadata": {},
   "outputs": [],
   "source": [
    "animalvet[animalvet[\"animal_id\"]==\"A668644\"][\"breed\"]"
   ]
  },
  {
   "attachments": {},
   "cell_type": "markdown",
   "metadata": {},
   "source": [
    "# 2. ¿Cuál es el listado de perros de raza “Pit Bull Mix” y una edad mayor de un año (365 días)? "
   ]
  },
  {
   "cell_type": "code",
   "execution_count": null,
   "metadata": {},
   "outputs": [],
   "source": [
    "animalvet[(animalvet[\"breed\"]==\"Pit Bull Mix\") & (animalvet[\"age_upon_outcome\"]>365)]"
   ]
  },
  {
   "attachments": {},
   "cell_type": "markdown",
   "metadata": {},
   "source": [
    "# 3. ¿Cuántos días (“age_upon_outcome”) tiene el cachorro más pequeño de cada especie (“animal_type”)?"
   ]
  },
  {
   "cell_type": "code",
   "execution_count": null,
   "metadata": {},
   "outputs": [],
   "source": [
    "animalvet.groupby([\"animal_type\"])[\"age_upon_outcome\"].min()"
   ]
  },
  {
   "attachments": {},
   "cell_type": "markdown",
   "metadata": {},
   "source": [
    "# 4. Repetir la anterior pregunta desglosando por categoría de edad (“age_category”) y obteniendo la media de días en vez del mínimo. Resolver con “pivot_table”. "
   ]
  },
  {
   "cell_type": "code",
   "execution_count": null,
   "metadata": {},
   "outputs": [],
   "source": [
    "animalvet.pivot_table(index=\"age_category\", columns=\"animal_type\", values=\"age_upon_outcome\" ,aggfunc=np.mean)"
   ]
  },
  {
   "attachments": {},
   "cell_type": "markdown",
   "metadata": {},
   "source": [
    "# 5. Mezclando con el segundo fichero, “animal_center_prop.csv”,  ¿cuál  es la media de edad (“age_upon_outcome”) de cada sexo (“sex_upon_outcome”)? "
   ]
  },
  {
   "cell_type": "code",
   "execution_count": null,
   "metadata": {},
   "outputs": [],
   "source": [
    "merge = animalvet.merge(animalprop, how=\"inner\", on=\"animal_id\")\n",
    "merge.groupby([\"sex_upon_outcome\"])[\"age_upon_outcome\"].mean()\n"
   ]
  },
  {
   "attachments": {},
   "cell_type": "markdown",
   "metadata": {},
   "source": [
    "# 6. Escribir en un fichero “report.csv” con el top 10 de animales más pequeños (en edad, “age_upon_outcome”) de color negro (“Black”). Pista para la ordenación: sort_values."
   ]
  },
  {
   "cell_type": "code",
   "execution_count": null,
   "metadata": {},
   "outputs": [],
   "source": [
    "merge.sort_values(by=[\"age_upon_outcome\"]).iloc[0:10].to_csv(\"report.csv\", sep=\",\", index=False)"
   ]
  }
 ],
 "metadata": {
  "kernelspec": {
   "display_name": "Python 3",
   "language": "python",
   "name": "python3"
  },
  "language_info": {
   "codemirror_mode": {
    "name": "ipython",
    "version": 3
   },
   "file_extension": ".py",
   "mimetype": "text/x-python",
   "name": "python",
   "nbconvert_exporter": "python",
   "pygments_lexer": "ipython3",
   "version": "3.10.6"
  },
  "orig_nbformat": 4,
  "vscode": {
   "interpreter": {
    "hash": "916dbcbb3f70747c44a77c7bcd40155683ae19c65e1c03b4aa3499c5328201f1"
   }
  }
 },
 "nbformat": 4,
 "nbformat_minor": 2
}
